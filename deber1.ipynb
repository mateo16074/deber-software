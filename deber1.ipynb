{
 "cells": [
  {
   "cell_type": "code",
   "execution_count": null,
   "id": "edc4101a-d88d-4f05-bbff-2fbfb7a45e9d",
   "metadata": {},
   "outputs": [],
   "source": [
    "#Deber 1 Mateo Vaca"
   ]
  },
  {
   "cell_type": "code",
   "execution_count": 2,
   "id": "26d9a268-c510-456d-b5fb-f0a9618a5953",
   "metadata": {},
   "outputs": [
    {
     "name": "stdout",
     "output_type": "stream",
     "text": [
      "El perímetro del circulo es 157.08\n",
      "El area del circulo es 1963.5\n"
     ]
    }
   ],
   "source": [
    "#1.-Programa que permita la entrada de una variable: radio.En salida, se espera que se calcule el perímetro y el área.\n",
    "from math import pi\n",
    "def circulo(radio):\n",
    "    perimetro = 2 * pi * radio\n",
    "    area = pi * radio**2\n",
    "    print (f\"El perímetro del circulo es {round(perimetro,2)}\")\n",
    "    print (f\"El area del circulo es {round(area,2)}\")\n",
    "                                                                  \n",
    "circulo(25)\n"
   ]
  },
  {
   "cell_type": "code",
   "execution_count": 1,
   "id": "79d4af37-fe17-4a21-a0d9-0fe4c3cef128",
   "metadata": {},
   "outputs": [
    {
     "name": "stdout",
     "output_type": "stream",
     "text": [
      "Ingrese el precio del producto: 2\n",
      "El precio final con IVA es: 2.32\n"
     ]
    }
   ],
   "source": [
    "#2.- Escribir un código que permita otra entrada: precio Obtener en salida el precio final Precio_f con el IVA\n",
    "def calcular_precio_final(precio):\n",
    "    iva = 0.16  # Suponiendo un IVA del 16%\n",
    "    precio_final = precio * (1 + iva)\n",
    "    print(\"El precio final con IVA es:\", precio_final)\n",
    "\n",
    "precio = float(input(\"Ingrese el precio del producto: \"))\n",
    "calcular_precio_final(precio)\n"
   ]
  },
  {
   "cell_type": "code",
   "execution_count": 12,
   "id": "eac0a6f9-a22b-4274-ab11-2592bed043a0",
   "metadata": {},
   "outputs": [
    {
     "name": "stdout",
     "output_type": "stream",
     "text": [
      "el numero 4 es menor a 5?\n"
     ]
    },
    {
     "data": {
      "text/plain": [
       "True"
      ]
     },
     "execution_count": 12,
     "metadata": {},
     "output_type": "execute_result"
    }
   ],
   "source": [
    "#3.-Generar una variable aleatoria entre 0 y 10. Verificar con \"True\" y \"False\" si esa variable es más grande que 5.\n",
    "import random\n",
    "num = random.randrange(1,10)\n",
    "print(\"el numero\", num , \"es menor o igual a 5?\" ) \n",
    "num<=5"
   ]
  },
  {
   "cell_type": "code",
   "execution_count": 15,
   "id": "546b4f44-56d0-4d16-9d80-aca05c45dfb9",
   "metadata": {},
   "outputs": [
    {
     "name": "stdin",
     "output_type": "stream",
     "text": [
      "ingrese una palabra de minimo 4 letras mateo\n"
     ]
    },
    {
     "name": "stdout",
     "output_type": "stream",
     "text": [
      "El cuarto carácter es una vocal.\n"
     ]
    }
   ],
   "source": [
    "#4.-Ingresar una cadena de caracteres mediante la función input. Verificar si el cuarto caracter es una vocal.\n",
    "cadena = input(\"ingrese una palabra de minimo 4 letras\")\n",
    "if len(cadena) >= 4:\n",
    "    caracter = cadena[3]  \n",
    "    if caracter in \"aeiouAEIOU\":\n",
    "        print(\"El cuarto carácter es una vocal.\")\n",
    "    else:\n",
    "        print(\"El cuarto carácter no es una vocal.\")\n",
    "else:\n",
    "    print(\"La cadena ingresada es demasiado corta.\")"
   ]
  },
  {
   "cell_type": "code",
   "execution_count": 18,
   "id": "ed6baf9f-9556-4166-9902-bef8596e2e1d",
   "metadata": {},
   "outputs": [
    {
     "name": "stdout",
     "output_type": "stream",
     "text": [
      "[14, 28, 34, 14, 58, 65, 73, 89, 94, 16, 27]\n",
      "Suma total utilizando la función sum(): 512\n",
      "Lista que contiene la suma: [512]\n"
     ]
    }
   ],
   "source": [
    "#5.-Crear una lista de números \"lista\" (mínimo 10 números). Escribir la suma de estalista en otra lista llamada sum_list y utilizando la función sum()\n",
    "lista = [14,28,34,14,58,65,73,89,94,16,27]\n",
    "suma_total = sum(lista)\n",
    "sum_list = [suma_total]\n",
    "print(lista)\n",
    "print(\"Suma total usando la función sum():\", suma_total)\n",
    "print(\"Lista que contiene la suma:\", sum_list)"
   ]
  },
  {
   "cell_type": "code",
   "execution_count": 2,
   "id": "64a04882-2afb-4708-80fe-b68200766b4c",
   "metadata": {},
   "outputs": [
    {
     "name": "stdout",
     "output_type": "stream",
     "text": [
      "El número más pequeño de la lista es: 1\n"
     ]
    }
   ],
   "source": [
    "#6.De la \"lista\", escribir un código que permita devolver el número más pequeño de esa lista.\n",
    "def encontrar_minimo(lista):\n",
    "    if not lista:\n",
    "        return None\n",
    "    minimo = lista[0]\n",
    "    for numero in lista:\n",
    "        if numero < minimo:\n",
    "            minimo = numero\n",
    "    return minimo\n",
    "mi_lista = [5, 3, 8, 1, 9, 2]\n",
    "resultado = encontrar_minimo(mi_lista)\n",
    "print(\"El número más pequeño de la lista es:\", resultado)\n"
   ]
  },
  {
   "cell_type": "code",
   "execution_count": 3,
   "id": "3fc322e1",
   "metadata": {},
   "outputs": [
    {
     "name": "stdout",
     "output_type": "stream",
     "text": [
      "Lista original: [1, 2, 3, 4, 5, 6, 7, 8, 9]\n",
      "Nueva lista con potencias: [1, 8, 9, 64, 125, 36, 343, 512, 81]\n"
     ]
    }
   ],
   "source": [
    "#7.-De la \"lista\", escribir un código que permita crear otra lista_pot, en donde los múltiples de 3 sean elevados al cuadrado,\n",
    "#y los no múltiples de 3 sean elevados al cubo.\n",
    "def elevar_elementos(lista):\n",
    "    lista_pot = []\n",
    "    for x in lista:\n",
    "        if x % 3 == 0:\n",
    "            lista_pot.append(x ** 2)\n",
    "        else:\n",
    "            lista_pot.append(x ** 3)\n",
    "    return lista_pot\n",
    "mi_lista = [1, 2, 3, 4, 5, 6, 7, 8, 9]\n",
    "lista_pot = elevar_elementos(mi_lista)\n",
    "print(\"Lista original:\", mi_lista)\n",
    "print(\"Nueva lista con potencias:\", lista_pot)\n",
    "\n"
   ]
  },
  {
   "cell_type": "code",
   "execution_count": 4,
   "id": "9bbcbf00",
   "metadata": {},
   "outputs": [
    {
     "name": "stdout",
     "output_type": "stream",
     "text": [
      "List of words containing the letter 'a': ['apple', 'coca-cola', 'avocado', 'wall', 'car', 'trash']\n"
     ]
    }
   ],
   "source": [
    "#8.-Crear una lista de caracteres list_char (mínimo 5). Crear una lista por comprensión donde se incluyan únicamente las palabras que tengan la letra a\n",
    "list_char = ['apple', 'coca-cola', 'avocado', 'wall', 'car', 'trash']\n",
    "words_with_a = [word for word in list_char if 'a' in word]\n",
    "print(\"List of words containing the letter 'a':\", words_with_a)\n"
   ]
  },
  {
   "cell_type": "code",
   "execution_count": 5,
   "id": "eaa4642d",
   "metadata": {},
   "outputs": [
    {
     "name": "stdout",
     "output_type": "stream",
     "text": [
      "Lista con el doble del valor de 'x' si es mayor que 4: [10, 14, 20]\n"
     ]
    }
   ],
   "source": [
    "#9-.Crea una lista por comprensión desde la \"lista\" donde se obtiene el doble del valor de x, solo si el valor es más grande que 4.\n",
    "lista = [2, 3, 5, 7, 1, 10]\n",
    "resultado = [x * 2 for x in lista if x > 4]\n",
    "print(\"Lista con el doble del valor de 'x' si es mayor que 4:\", resultado)\n"
   ]
  },
  {
   "cell_type": "code",
   "execution_count": 8,
   "id": "e9095741",
   "metadata": {},
   "outputs": [
    {
     "name": "stdout",
     "output_type": "stream",
     "text": [
      "Tupla convertida a string: Gooooooool\n"
     ]
    }
   ],
   "source": [
    "#10.-Crear una tupla de caracteres y convertirla a un string a partir de una class method.\n",
    "class ConvertidorString:\n",
    "    @classmethod\n",
    "    def tupla_a_string(cls, tupla):\n",
    "        return ''.join(tupla)\n",
    "mi_tupla = ('G', 'o', 'o', 'o', 'o', 'o', 'o', 'o', 'o', 'l',)\n",
    "resultado = ConvertidorString.tupla_a_string(mi_tupla)\n",
    "print(\"Tupla convertida a string:\", resultado)\n"
   ]
  },
  {
   "cell_type": "code",
   "execution_count": null,
   "id": "9c7acdb5",
   "metadata": {},
   "outputs": [],
   "source": []
  }
 ],
 "metadata": {
  "kernelspec": {
   "display_name": "Python 3 (ipykernel)",
   "language": "python",
   "name": "python3"
  },
  "language_info": {
   "codemirror_mode": {
    "name": "ipython",
    "version": 3
   },
   "file_extension": ".py",
   "mimetype": "text/x-python",
   "name": "python",
   "nbconvert_exporter": "python",
   "pygments_lexer": "ipython3",
   "version": "3.11.7"
  }
 },
 "nbformat": 4,
 "nbformat_minor": 5
}
